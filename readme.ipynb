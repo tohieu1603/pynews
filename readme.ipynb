{
 "cells": [
  {
   "cell_type": "code",
   "execution_count": 2,
   "id": "42bae9c1",
   "metadata": {},
   "outputs": [],
   "source": [
    "from vnstock import Company\n",
    "from vnstock import Listing\n",
    "from vnstock import Finance\n",
    "company = Company(symbol = \"SVC\", source=\"TCBS\")\n",
    "company2 = Company(symbol=\"TRC\", source=\"VCI\")\n",
    "listing = Listing()\n",
    "\n",
    "\n"
   ]
  },
  {
   "cell_type": "code",
   "execution_count": 6,
   "id": "7e4ce3a9",
   "metadata": {},
   "outputs": [
    {
     "name": "stdout",
     "output_type": "stream",
     "text": [
      "     symbol exchange   type             organ_short_name  \\\n",
      "1       YEG      HSX  STOCK               Tập đoàn Yeah1   \n",
      "2       YBM      HSX  STOCK        Khoáng sản CN Yên Bái   \n",
      "33      VTP      HSX  STOCK            Bưu chính Viettel   \n",
      "34      VTO      HSX  STOCK                       VITACO   \n",
      "45      VTB      HSX  STOCK         Viettronics Tân Bình   \n",
      "...     ...      ...    ...                          ...   \n",
      "2991    ABS      HSX  STOCK    DV Nông nghiệp Bình Thuận   \n",
      "2992    ABR      HSX  STOCK        Đầu tư Nhãn Hiệu Việt   \n",
      "2997    AAT      HSX  STOCK  Tập đoàn Tiên Sơn Thanh Hóa   \n",
      "2999    AAM      HSX  STOCK              Thủy sản Mekong   \n",
      "3001    AAA      HSX  STOCK          An Phát Bioplastics   \n",
      "\n",
      "                                          organ_name product_grp_id  \n",
      "1                     Công ty Cổ phần Tập đoàn Yeah1            STO  \n",
      "2     Công ty Cổ phần Khoáng sản Công nghiệp Yên Bái            STO  \n",
      "33            Tổng Công ty Cổ phần Bưu chính Viettel            STO  \n",
      "34           Công ty Cổ phần Vận tải Xăng dầu VITACO            STO  \n",
      "45              Công ty Cổ phần Viettronics Tân Bình            STO  \n",
      "...                                              ...            ...  \n",
      "2991  Công ty Cổ phần Dịch vụ Nông nghiệp Bình Thuận            STO  \n",
      "2992           Công ty Cổ phần Đầu tư Nhãn Hiệu Việt            STO  \n",
      "2997     Công ty Cổ phần Tập đoàn Tiên Sơn Thanh Hóa            STO  \n",
      "2999                 Công ty Cổ Phần Thủy Sản MeKong            STO  \n",
      "3001               Công ty Cổ phần Nhựa An Phát Xanh            STO  \n",
      "\n",
      "[384 rows x 6 columns]\n"
     ]
    }
   ],
   "source": [
    "df = listing.symbols_by_exchange()\n",
    "df = df[df[\"exchange\"] == \"HSX\"]\n",
    "\n",
    "# Giữ lại chỉ những symbol toàn chữ (không chứa số)\n",
    "df = df[df[\"symbol\"].str.isalpha()]\n",
    "\n",
    "print(df)\n"
   ]
  },
  {
   "cell_type": "code",
   "execution_count": null,
   "id": "db2e6dc2",
   "metadata": {},
   "outputs": [],
   "source": []
  }
 ],
 "metadata": {
  "kernelspec": {
   "display_name": ".venv",
   "language": "python",
   "name": "python3"
  },
  "language_info": {
   "codemirror_mode": {
    "name": "ipython",
    "version": 3
   },
   "file_extension": ".py",
   "mimetype": "text/x-python",
   "name": "python",
   "nbconvert_exporter": "python",
   "pygments_lexer": "ipython3",
   "version": "3.10.6"
  }
 },
 "nbformat": 4,
 "nbformat_minor": 5
}
