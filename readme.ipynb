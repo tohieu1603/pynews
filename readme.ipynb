{
 "cells": [
  {
   "cell_type": "code",
   "execution_count": null,
   "id": "e3515772",
   "metadata": {},
   "outputs": [],
   "source": [
    "# Kiểm tra logs trong database\n",
    "# Sử dụng Django shell: python manage.py shell\n",
    "# Sau đó chạy:\n",
    "\n",
    "# from django.db import connection\n",
    "# with connection.cursor() as cursor:\n",
    "#     cursor.execute(\"SELECT COUNT(*) FROM logs\")\n",
    "#     count = cursor.fetchone()[0]\n",
    "#     print(f\"Tổng số logs: {count}\")\n",
    "#     \n",
    "#     cursor.execute(\"SELECT level, channel, message, context, created_at FROM logs ORDER BY created_at DESC LIMIT 10\")\n",
    "#     rows = cursor.fetchall()\n",
    "#     for row in rows:\n",
    "#         print(f\"[{row[4]}] {row[0].upper()} - {row[1]}: {row[2]}\")\n",
    "#         if row[3]:\n",
    "#             print(f\"  Context: {row[3]}\")\n",
    "\n",
    "print(\"Chạy code trên trong Django shell để kiểm tra logs\")"
   ]
  },
  {
   "cell_type": "code",
   "execution_count": 1,
   "id": "42bae9c1",
   "metadata": {},
   "outputs": [],
   "source": [
    "from vnstock import Company\n",
    "from vnstock import Listing\n",
    "from vnstock import Finance\n",
    "company = Company(symbol = \"TPB\", source=\"TCBS\")\n",
    "company2 = Company(symbol = \"TEG\", source=\"VCI\")\n",
    "listing = Listing()\n",
    "fin = finance = Finance(symbol=\"VTO\", source=\"VCI\")\n",
    "\n"
   ]
  },
  {
   "cell_type": "code",
   "execution_count": 3,
   "id": "e265c3cc",
   "metadata": {},
   "outputs": [
    {
     "name": "stdout",
     "output_type": "stream",
     "text": [
      "     symbol exchange   type             organ_short_name  \\\n",
      "1       YEG      HSX  STOCK               Tập đoàn Yeah1   \n",
      "2       YBM      HSX  STOCK        Khoáng sản CN Yên Bái   \n",
      "33      VTP      HSX  STOCK            Bưu chính Viettel   \n",
      "34      VTO      HSX  STOCK                       VITACO   \n",
      "45      VTB      HSX  STOCK         Viettronics Tân Bình   \n",
      "...     ...      ...    ...                          ...   \n",
      "2991    ABS      HSX  STOCK    DV Nông nghiệp Bình Thuận   \n",
      "2992    ABR      HSX  STOCK        Đầu tư Nhãn Hiệu Việt   \n",
      "2997    AAT      HSX  STOCK  Tập đoàn Tiên Sơn Thanh Hóa   \n",
      "2999    AAM      HSX  STOCK              Thủy sản Mekong   \n",
      "3001    AAA      HSX  STOCK          An Phát Bioplastics   \n",
      "\n",
      "                                          organ_name product_grp_id  \n",
      "1                     Công ty Cổ phần Tập đoàn Yeah1            STO  \n",
      "2     Công ty Cổ phần Khoáng sản Công nghiệp Yên Bái            STO  \n",
      "33            Tổng Công ty Cổ phần Bưu chính Viettel            STO  \n",
      "34           Công ty Cổ phần Vận tải Xăng dầu VITACO            STO  \n",
      "45              Công ty Cổ phần Viettronics Tân Bình            STO  \n",
      "...                                              ...            ...  \n",
      "2991  Công ty Cổ phần Dịch vụ Nông nghiệp Bình Thuận            STO  \n",
      "2992           Công ty Cổ phần Đầu tư Nhãn Hiệu Việt            STO  \n",
      "2997     Công ty Cổ phần Tập đoàn Tiên Sơn Thanh Hóa            STO  \n",
      "2999                 Công ty Cổ Phần Thủy Sản MeKong            STO  \n",
      "3001               Công ty Cổ phần Nhựa An Phát Xanh            STO  \n",
      "\n",
      "[384 rows x 6 columns]\n"
     ]
    }
   ],
   "source": [
    "import re\n",
    "\n",
    "df = listing.symbols_by_exchange()\n",
    "df = df[df['exchange'] == 'HSX']\n",
    "\n",
    "# lọc symbol chỉ toàn chữ (viết hoa hoặc viết thường)\n",
    "df = df[df['symbol'].str.match(r'^[A-Z]+$')]\n",
    "\n",
    "# Chỉ lấy danh sách symbol_id (mã chứng khoán), không phải bot\n",
    "symbol_ids = df['symbol'].tolist()\n",
    "print(f\"Tổng số symbol_ids HSX (chỉ chữ cái): {len(symbol_ids)}\")\n",
    "print(f\"Danh sách symbol_ids: {symbol_ids}\")"
   ]
  },
  {
   "cell_type": "code",
   "execution_count": null,
   "id": "9fa2e9f6",
   "metadata": {},
   "outputs": [],
   "source": [
    "# Chỉ lấy danh sách symbol_id (mã chứng khoán) theo điều kiện đã lọc\n",
    "symbol_ids = df['symbol'].tolist()\n",
    "print(f\"Tổng số symbol_ids HSX (chỉ chữ cái): {len(symbol_ids)}\")\n",
    "print(f\"Danh sách symbol_ids: {symbol_ids}\")\n",
    "\n",
    "# Hoặc nếu muốn lấy 10 symbol_ids đầu tiên để test\n",
    "first_10_symbol_ids = symbol_ids[:10]\n",
    "print(f\"\\n10 symbol_ids đầu tiên: {first_10_symbol_ids}\")\n",
    "\n",
    "# Lưu vào biến để sử dụng sau này cho hệ thống bot trading\n",
    "filtered_symbol_ids = symbol_ids\n",
    "\n",
    "# Note: Đây là symbol_id (mã chứng khoán), không phải bot_id\n",
    "# Trong database schema, symbol_id sẽ ref đến bảng symbol.id để quản lý trading bot cho từng mã CK"
   ]
  },
  {
   "cell_type": "code",
   "execution_count": 9,
   "id": "ea0ce67e",
   "metadata": {},
   "outputs": [
    {
     "ename": "SynchronousOnlyOperation",
     "evalue": "You cannot call this from an async context - use a thread or sync_to_async.",
     "output_type": "error",
     "traceback": [
      "\u001b[1;31m---------------------------------------------------------------------------\u001b[0m",
      "\u001b[1;31mSynchronousOnlyOperation\u001b[0m                  Traceback (most recent call last)",
      "Cell \u001b[1;32mIn[9], line 3\u001b[0m\n\u001b[0;32m      1\u001b[0m \u001b[38;5;66;03m# Kiểm tra cấu trúc bảng logs hiện tại\u001b[39;00m\n\u001b[0;32m      2\u001b[0m \u001b[38;5;28;01mfrom\u001b[39;00m\u001b[38;5;250m \u001b[39m\u001b[38;5;21;01mdjango\u001b[39;00m\u001b[38;5;21;01m.\u001b[39;00m\u001b[38;5;21;01mdb\u001b[39;00m\u001b[38;5;250m \u001b[39m\u001b[38;5;28;01mimport\u001b[39;00m connection\n\u001b[1;32m----> 3\u001b[0m cursor \u001b[38;5;241m=\u001b[39m \u001b[43mconnection\u001b[49m\u001b[38;5;241;43m.\u001b[39;49m\u001b[43mcursor\u001b[49m\u001b[43m(\u001b[49m\u001b[43m)\u001b[49m\n\u001b[0;32m      5\u001b[0m \u001b[38;5;66;03m# Kiểm tra các cột trong bảng logs\u001b[39;00m\n\u001b[0;32m      6\u001b[0m cursor\u001b[38;5;241m.\u001b[39mexecute(\u001b[38;5;124m\"\"\"\u001b[39m\n\u001b[0;32m      7\u001b[0m \u001b[38;5;124m    SELECT column_name, data_type, is_nullable \u001b[39m\n\u001b[0;32m      8\u001b[0m \u001b[38;5;124m    FROM information_schema.columns \u001b[39m\n\u001b[0;32m      9\u001b[0m \u001b[38;5;124m    WHERE table_name = \u001b[39m\u001b[38;5;124m'\u001b[39m\u001b[38;5;124mlogs\u001b[39m\u001b[38;5;124m'\u001b[39m\n\u001b[0;32m     10\u001b[0m \u001b[38;5;124m    ORDER BY ordinal_position\u001b[39m\n\u001b[0;32m     11\u001b[0m \u001b[38;5;124m\"\"\"\u001b[39m)\n",
      "File \u001b[1;32mc:\\Users\\ADMIN\\pynews\\.venv\\lib\\site-packages\\django\\utils\\asyncio.py:24\u001b[0m, in \u001b[0;36masync_unsafe.<locals>.decorator.<locals>.inner\u001b[1;34m(*args, **kwargs)\u001b[0m\n\u001b[0;32m     22\u001b[0m \u001b[38;5;28;01melse\u001b[39;00m:\n\u001b[0;32m     23\u001b[0m     \u001b[38;5;28;01mif\u001b[39;00m \u001b[38;5;129;01mnot\u001b[39;00m os\u001b[38;5;241m.\u001b[39menviron\u001b[38;5;241m.\u001b[39mget(\u001b[38;5;124m\"\u001b[39m\u001b[38;5;124mDJANGO_ALLOW_ASYNC_UNSAFE\u001b[39m\u001b[38;5;124m\"\u001b[39m):\n\u001b[1;32m---> 24\u001b[0m         \u001b[38;5;28;01mraise\u001b[39;00m SynchronousOnlyOperation(message)\n\u001b[0;32m     25\u001b[0m \u001b[38;5;66;03m# Pass onward.\u001b[39;00m\n\u001b[0;32m     26\u001b[0m \u001b[38;5;28;01mreturn\u001b[39;00m func(\u001b[38;5;241m*\u001b[39margs, \u001b[38;5;241m*\u001b[39m\u001b[38;5;241m*\u001b[39mkwargs)\n",
      "\u001b[1;31mSynchronousOnlyOperation\u001b[0m: You cannot call this from an async context - use a thread or sync_to_async."
     ]
    }
   ],
   "source": [
    "# Kiểm tra cấu trúc bảng logs hiện tại\n",
    "from django.db import connection\n",
    "cursor = connection.cursor()\n",
    "\n",
    "# Kiểm tra các cột trong bảng logs\n",
    "cursor.execute(\"\"\"\n",
    "    SELECT column_name, data_type, is_nullable \n",
    "    FROM information_schema.columns \n",
    "    WHERE table_name = 'logs'\n",
    "    ORDER BY ordinal_position\n",
    "\"\"\")\n",
    "columns = cursor.fetchall()\n",
    "print(\"Cấu trúc bảng logs hiện tại:\")\n",
    "for col in columns:\n",
    "    print(f\"  {col[0]} - {col[1]} (nullable: {col[2]})\")\n",
    "\n",
    "print(\"\\n\" + \"=\"*50)\n",
    "\n",
    "# Drop và tạo lại bảng với cấu trúc đúng\n",
    "cursor.execute(\"DROP TABLE IF EXISTS logs CASCADE\")\n",
    "print(\"Đã xóa bảng logs cũ\")\n",
    "\n",
    "cursor.execute(\"\"\"\n",
    "    CREATE TABLE logs (\n",
    "        id BIGSERIAL PRIMARY KEY,\n",
    "        level VARCHAR(20) NOT NULL,\n",
    "        channel VARCHAR(50) NOT NULL,\n",
    "        message TEXT NOT NULL,\n",
    "        context JSONB DEFAULT '{}',\n",
    "        extra JSONB DEFAULT '{}',\n",
    "        environment VARCHAR(50),\n",
    "        created_at TIMESTAMP WITH TIME ZONE DEFAULT NOW()\n",
    "    );\n",
    "    \n",
    "    CREATE INDEX idx_logs_created_at ON logs(created_at);\n",
    "    CREATE INDEX idx_logs_level ON logs(level);\n",
    "    CREATE INDEX idx_logs_channel ON logs(channel);\n",
    "    CREATE INDEX idx_logs_context_gin ON logs USING GIN(context);\n",
    "\"\"\")\n",
    "print(\"Đã tạo lại bảng logs với cấu trúc đúng\")\n",
    "\n",
    "# Test insert\n",
    "cursor.execute(\"\"\"\n",
    "    INSERT INTO logs (level, channel, message, context, environment)\n",
    "    VALUES (%s, %s, %s, %s, %s)\n",
    "\"\"\", ['info', 'test', 'Test after recreate', '{\"test\": true}', 'local'])\n",
    "\n",
    "print(\"Test insert thành công!\")\n",
    "\n",
    "# Kiểm tra\n",
    "cursor.execute(\"SELECT COUNT(*) FROM logs\")\n",
    "count = cursor.fetchone()[0]\n",
    "print(f\"Số logs sau khi tạo lại: {count}\")"
   ]
  }
 ],
 "metadata": {
  "kernelspec": {
   "display_name": ".venv",
   "language": "python",
   "name": "python3"
  },
  "language_info": {
   "codemirror_mode": {
    "name": "ipython",
    "version": 3
   },
   "file_extension": ".py",
   "mimetype": "text/x-python",
   "name": "python",
   "nbconvert_exporter": "python",
   "pygments_lexer": "ipython3",
   "version": "3.10.6"
  }
 },
 "nbformat": 4,
 "nbformat_minor": 5
}
